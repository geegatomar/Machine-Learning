{
 "cells": [
  {
   "cell_type": "markdown",
   "metadata": {},
   "source": [
    "## Logistic Regression"
   ]
  },
  {
   "cell_type": "code",
   "execution_count": 2,
   "metadata": {},
   "outputs": [
    {
     "name": "stderr",
     "output_type": "stream",
     "text": [
      "/home/shivangi/anaconda3/lib/python3.6/importlib/_bootstrap.py:219: RuntimeWarning: numpy.ufunc size changed, may indicate binary incompatibility. Expected 192 from C header, got 216 from PyObject\n",
      "  return f(*args, **kwds)\n"
     ]
    }
   ],
   "source": [
    "import numpy as np\n",
    "from sklearn.linear_model import LogisticRegression\n",
    "from sklearn.model_selection import train_test_split\n"
   ]
  },
  {
   "cell_type": "code",
   "execution_count": 25,
   "metadata": {},
   "outputs": [
    {
     "name": "stderr",
     "output_type": "stream",
     "text": [
      "/home/shivangi/.local/lib/python3.6/site-packages/sklearn/linear_model/_logistic.py:940: ConvergenceWarning: lbfgs failed to converge (status=1):\n",
      "STOP: TOTAL NO. of ITERATIONS REACHED LIMIT.\n",
      "\n",
      "Increase the number of iterations (max_iter) or scale the data as shown in:\n",
      "    https://scikit-learn.org/stable/modules/preprocessing.html\n",
      "Please also refer to the documentation for alternative solver options:\n",
      "    https://scikit-learn.org/stable/modules/linear_model.html#logistic-regression\n",
      "  extra_warning_msg=_LOGISTIC_SOLVER_CONVERGENCE_MSG)\n"
     ]
    }
   ],
   "source": [
    "from sklearn.datasets import load_breast_cancer\n",
    "\n",
    "cancer = load_breast_cancer()\n",
    "X_train, X_test, y_train, y_test = train_test_split(cancer.data, cancer.target)\n",
    "\n",
    "model = LogisticRegression(C=100).fit(X_train, y_train)"
   ]
  },
  {
   "cell_type": "code",
   "execution_count": 26,
   "metadata": {},
   "outputs": [
    {
     "data": {
      "text/plain": [
       "dict_keys(['data', 'target', 'target_names', 'DESCR', 'feature_names', 'filename'])"
      ]
     },
     "execution_count": 26,
     "metadata": {},
     "output_type": "execute_result"
    }
   ],
   "source": [
    "cancer.keys()"
   ]
  },
  {
   "cell_type": "code",
   "execution_count": 27,
   "metadata": {},
   "outputs": [
    {
     "data": {
      "text/plain": [
       "0.9389671361502347"
      ]
     },
     "execution_count": 27,
     "metadata": {},
     "output_type": "execute_result"
    }
   ],
   "source": [
    "model.score(X_train, y_train)\n"
   ]
  },
  {
   "cell_type": "code",
   "execution_count": 24,
   "metadata": {},
   "outputs": [
    {
     "data": {
      "text/plain": [
       "0.9230769230769231"
      ]
     },
     "execution_count": 24,
     "metadata": {},
     "output_type": "execute_result"
    }
   ],
   "source": [
    "model.score(X_test, y_test)"
   ]
  },
  {
   "cell_type": "code",
   "execution_count": 28,
   "metadata": {},
   "outputs": [],
   "source": [
    "# The 'C' parameter in Logistic Regression is the inverse of the lambda regularization penalty\n",
    "# C = 1/lambda\n",
    "# Higher the C, (lower the lambda), lower the regularization\n",
    "# If C gets too high, (lambda gets too low), almost no regularization ==> overfitting ==> high train acc, lower\n",
    "# test set accuracy"
   ]
  },
  {
   "cell_type": "code",
   "execution_count": 29,
   "metadata": {},
   "outputs": [],
   "source": [
    "#  LogisticRegression applies an L2 regularization by default\n"
   ]
  },
  {
   "cell_type": "code",
   "execution_count": 3,
   "metadata": {},
   "outputs": [],
   "source": [
    "from sklearn.datasets import make_blobs"
   ]
  },
  {
   "cell_type": "code",
   "execution_count": 4,
   "metadata": {},
   "outputs": [],
   "source": [
    "X, y = make_blobs()"
   ]
  },
  {
   "cell_type": "code",
   "execution_count": 5,
   "metadata": {},
   "outputs": [],
   "source": [
    "%matplotlib inline\n",
    "import matplotlib.pyplot as plt"
   ]
  },
  {
   "cell_type": "code",
   "execution_count": 7,
   "metadata": {},
   "outputs": [
    {
     "data": {
      "text/plain": [
       "(100, 2)"
      ]
     },
     "execution_count": 7,
     "metadata": {},
     "output_type": "execute_result"
    }
   ],
   "source": [
    "X.shape"
   ]
  },
  {
   "cell_type": "code",
   "execution_count": 8,
   "metadata": {},
   "outputs": [
    {
     "data": {
      "text/plain": [
       "(100,)"
      ]
     },
     "execution_count": 8,
     "metadata": {},
     "output_type": "execute_result"
    }
   ],
   "source": [
    "y.shape"
   ]
  },
  {
   "cell_type": "code",
   "execution_count": 10,
   "metadata": {},
   "outputs": [],
   "source": [
    "from sklearn.svm import SVC\n",
    "\n",
    "model = SVC()"
   ]
  },
  {
   "cell_type": "code",
   "execution_count": 11,
   "metadata": {},
   "outputs": [],
   "source": [
    "from sklearn.model_selection import train_test_split\n",
    "\n",
    "X_train, X_test, y_train, y_test = train_test_split(X, y)"
   ]
  },
  {
   "cell_type": "code",
   "execution_count": 13,
   "metadata": {},
   "outputs": [
    {
     "name": "stdout",
     "output_type": "stream",
     "text": [
      "0.96 0.92\n"
     ]
    }
   ],
   "source": [
    "model.fit(X_train, y_train)\n",
    "print(model.score(X_train, y_train), model.score(X_test, y_test))"
   ]
  },
  {
   "cell_type": "code",
   "execution_count": 14,
   "metadata": {},
   "outputs": [],
   "source": [
    "# In logistic regression, we only drew the hyperplane\n",
    "# in svm, along with the hyperplane , we also care about the margins. We need to maximize this marginal distance\n"
   ]
  },
  {
   "cell_type": "code",
   "execution_count": 16,
   "metadata": {},
   "outputs": [],
   "source": [
    "# SVM hyperparameters\n",
    "\n",
    "# C : the same as in Logistic regression.\n",
    "# It is 1/lambda or 1/alpha and controls how much regularization is applied\n",
    "# More the C, smaller the lambda, lesser regularization ==> Overfitting (more wiggly classification)\n",
    "\n",
    "# Gamma : Defines how far the influence of a single training example reaches\n",
    "# low values => far reach\n",
    "# high value of gamma => the closer points have lot influence ==> More wiggly\n",
    "# ===> low gamma is more regularized"
   ]
  },
  {
   "cell_type": "code",
   "execution_count": 17,
   "metadata": {},
   "outputs": [],
   "source": [
    "# The polynomial and RBF are especially useful when the data-points are not linearly separable.\n",
    "# RBF Kernaels\n"
   ]
  },
  {
   "cell_type": "markdown",
   "metadata": {},
   "source": [
    "## Naive Bayes"
   ]
  },
  {
   "cell_type": "code",
   "execution_count": 1,
   "metadata": {},
   "outputs": [],
   "source": [
    "# GaussianNB can be applied to any continuous data, while BernoulliNB assumes binary data and MultinomialNB\n",
    "# assumes count data"
   ]
  },
  {
   "cell_type": "markdown",
   "metadata": {},
   "source": [
    "## Decision Tree"
   ]
  },
  {
   "cell_type": "code",
   "execution_count": 7,
   "metadata": {},
   "outputs": [
    {
     "name": "stdout",
     "output_type": "stream",
     "text": [
      "0.9812206572769953 0.9300699300699301\n"
     ]
    }
   ],
   "source": [
    "from sklearn.datasets import load_breast_cancer\n",
    "from sklearn.model_selection import train_test_split\n",
    "\n",
    "cancer = load_breast_cancer()\n",
    "X, y = cancer.data, cancer.target\n",
    "X_train, X_test, y_train, y_test = train_test_split(X, y)\n",
    "\n",
    "from sklearn.tree import DecisionTreeClassifier\n",
    "\n",
    "model = DecisionTreeClassifier(max_depth=4).fit(X_train, y_train)\n",
    "print(model.score(X_train, y_train) , model.score(X_test, y_test))"
   ]
  },
  {
   "cell_type": "code",
   "execution_count": 9,
   "metadata": {},
   "outputs": [],
   "source": [
    "from sklearn.tree import export_graphviz\n",
    "export_graphviz(model, out_file=\"tree.dot\", class_names=[\"malignant\", \"benign\"],feature_names=cancer.feature_names, impurity=False, filled=True)"
   ]
  },
  {
   "cell_type": "code",
   "execution_count": 12,
   "metadata": {},
   "outputs": [
    {
     "data": {
      "image/svg+xml": [
       "<?xml version=\"1.0\" encoding=\"UTF-8\" standalone=\"no\"?>\n",
       "<!DOCTYPE svg PUBLIC \"-//W3C//DTD SVG 1.1//EN\"\n",
       " \"http://www.w3.org/Graphics/SVG/1.1/DTD/svg11.dtd\">\n",
       "<!-- Generated by graphviz version 2.43.0 (0)\n",
       " -->\n",
       "<!-- Title: Tree Pages: 1 -->\n",
       "<svg width=\"1601pt\" height=\"477pt\"\n",
       " viewBox=\"0.00 0.00 1601.00 477.00\" xmlns=\"http://www.w3.org/2000/svg\" xmlns:xlink=\"http://www.w3.org/1999/xlink\">\n",
       "<g id=\"graph0\" class=\"graph\" transform=\"scale(1 1) rotate(0) translate(4 473)\">\n",
       "<title>Tree</title>\n",
       "<polygon fill=\"white\" stroke=\"transparent\" points=\"-4,4 -4,-473 1597,-473 1597,4 -4,4\"/>\n",
       "<!-- 0 -->\n",
       "<g id=\"node1\" class=\"node\">\n",
       "<title>0</title>\n",
       "<polygon fill=\"#add6f4\" stroke=\"black\" points=\"952,-469 711,-469 711,-401 952,-401 952,-469\"/>\n",
       "<text text-anchor=\"middle\" x=\"831.5\" y=\"-453.8\" font-family=\"Times,serif\" font-size=\"14.00\">worst concave points &lt;= 0.145</text>\n",
       "<text text-anchor=\"middle\" x=\"831.5\" y=\"-438.8\" font-family=\"Times,serif\" font-size=\"14.00\">samples = 426</text>\n",
       "<text text-anchor=\"middle\" x=\"831.5\" y=\"-423.8\" font-family=\"Times,serif\" font-size=\"14.00\">value = [157, 269]</text>\n",
       "<text text-anchor=\"middle\" x=\"831.5\" y=\"-408.8\" font-family=\"Times,serif\" font-size=\"14.00\">class = benign</text>\n",
       "</g>\n",
       "<!-- 1 -->\n",
       "<g id=\"node2\" class=\"node\">\n",
       "<title>1</title>\n",
       "<polygon fill=\"#4da7e8\" stroke=\"black\" points=\"796.5,-365 620.5,-365 620.5,-297 796.5,-297 796.5,-365\"/>\n",
       "<text text-anchor=\"middle\" x=\"708.5\" y=\"-349.8\" font-family=\"Times,serif\" font-size=\"14.00\">worst area &lt;= 957.45</text>\n",
       "<text text-anchor=\"middle\" x=\"708.5\" y=\"-334.8\" font-family=\"Times,serif\" font-size=\"14.00\">samples = 289</text>\n",
       "<text text-anchor=\"middle\" x=\"708.5\" y=\"-319.8\" font-family=\"Times,serif\" font-size=\"14.00\">value = [27, 262]</text>\n",
       "<text text-anchor=\"middle\" x=\"708.5\" y=\"-304.8\" font-family=\"Times,serif\" font-size=\"14.00\">class = benign</text>\n",
       "</g>\n",
       "<!-- 0&#45;&gt;1 -->\n",
       "<g id=\"edge1\" class=\"edge\">\n",
       "<title>0&#45;&gt;1</title>\n",
       "<path fill=\"none\" stroke=\"black\" d=\"M791.57,-400.88C780.39,-391.62 768.14,-381.45 756.55,-371.85\"/>\n",
       "<polygon fill=\"black\" stroke=\"black\" points=\"758.59,-368.99 748.66,-365.3 754.12,-374.38 758.59,-368.99\"/>\n",
       "<text text-anchor=\"middle\" x=\"750.98\" y=\"-386.49\" font-family=\"Times,serif\" font-size=\"14.00\">True</text>\n",
       "</g>\n",
       "<!-- 14 -->\n",
       "<g id=\"node15\" class=\"node\">\n",
       "<title>14</title>\n",
       "<polygon fill=\"#e68844\" stroke=\"black\" points=\"1067.5,-365 913.5,-365 913.5,-297 1067.5,-297 1067.5,-365\"/>\n",
       "<text text-anchor=\"middle\" x=\"990.5\" y=\"-349.8\" font-family=\"Times,serif\" font-size=\"14.00\">area error &lt;= 18.5</text>\n",
       "<text text-anchor=\"middle\" x=\"990.5\" y=\"-334.8\" font-family=\"Times,serif\" font-size=\"14.00\">samples = 137</text>\n",
       "<text text-anchor=\"middle\" x=\"990.5\" y=\"-319.8\" font-family=\"Times,serif\" font-size=\"14.00\">value = [130, 7]</text>\n",
       "<text text-anchor=\"middle\" x=\"990.5\" y=\"-304.8\" font-family=\"Times,serif\" font-size=\"14.00\">class = malignant</text>\n",
       "</g>\n",
       "<!-- 0&#45;&gt;14 -->\n",
       "<g id=\"edge14\" class=\"edge\">\n",
       "<title>0&#45;&gt;14</title>\n",
       "<path fill=\"none\" stroke=\"black\" d=\"M883.12,-400.88C898.2,-391.21 914.8,-380.56 930.35,-370.59\"/>\n",
       "<polygon fill=\"black\" stroke=\"black\" points=\"932.34,-373.47 938.86,-365.12 928.56,-367.58 932.34,-373.47\"/>\n",
       "<text text-anchor=\"middle\" x=\"933.53\" y=\"-385.85\" font-family=\"Times,serif\" font-size=\"14.00\">False</text>\n",
       "</g>\n",
       "<!-- 2 -->\n",
       "<g id=\"node3\" class=\"node\">\n",
       "<title>2</title>\n",
       "<polygon fill=\"#42a2e6\" stroke=\"black\" points=\"518,-261 303,-261 303,-193 518,-193 518,-261\"/>\n",
       "<text text-anchor=\"middle\" x=\"410.5\" y=\"-245.8\" font-family=\"Times,serif\" font-size=\"14.00\">worst perimeter &lt;= 101.95</text>\n",
       "<text text-anchor=\"middle\" x=\"410.5\" y=\"-230.8\" font-family=\"Times,serif\" font-size=\"14.00\">samples = 272</text>\n",
       "<text text-anchor=\"middle\" x=\"410.5\" y=\"-215.8\" font-family=\"Times,serif\" font-size=\"14.00\">value = [12, 260]</text>\n",
       "<text text-anchor=\"middle\" x=\"410.5\" y=\"-200.8\" font-family=\"Times,serif\" font-size=\"14.00\">class = benign</text>\n",
       "</g>\n",
       "<!-- 1&#45;&gt;2 -->\n",
       "<g id=\"edge2\" class=\"edge\">\n",
       "<title>1&#45;&gt;2</title>\n",
       "<path fill=\"none\" stroke=\"black\" d=\"M620.3,-299.81C587.75,-288.67 550.52,-275.93 516.55,-264.3\"/>\n",
       "<polygon fill=\"black\" stroke=\"black\" points=\"517.66,-260.98 507.07,-261.05 515.39,-267.6 517.66,-260.98\"/>\n",
       "</g>\n",
       "<!-- 9 -->\n",
       "<g id=\"node10\" class=\"node\">\n",
       "<title>9</title>\n",
       "<polygon fill=\"#e89253\" stroke=\"black\" points=\"818.5,-261 598.5,-261 598.5,-193 818.5,-193 818.5,-261\"/>\n",
       "<text text-anchor=\"middle\" x=\"708.5\" y=\"-245.8\" font-family=\"Times,serif\" font-size=\"14.00\">worst smoothness &lt;= 0.097</text>\n",
       "<text text-anchor=\"middle\" x=\"708.5\" y=\"-230.8\" font-family=\"Times,serif\" font-size=\"14.00\">samples = 17</text>\n",
       "<text text-anchor=\"middle\" x=\"708.5\" y=\"-215.8\" font-family=\"Times,serif\" font-size=\"14.00\">value = [15, 2]</text>\n",
       "<text text-anchor=\"middle\" x=\"708.5\" y=\"-200.8\" font-family=\"Times,serif\" font-size=\"14.00\">class = malignant</text>\n",
       "</g>\n",
       "<!-- 1&#45;&gt;9 -->\n",
       "<g id=\"edge9\" class=\"edge\">\n",
       "<title>1&#45;&gt;9</title>\n",
       "<path fill=\"none\" stroke=\"black\" d=\"M708.5,-296.88C708.5,-288.78 708.5,-279.98 708.5,-271.47\"/>\n",
       "<polygon fill=\"black\" stroke=\"black\" points=\"712,-271.3 708.5,-261.3 705,-271.3 712,-271.3\"/>\n",
       "</g>\n",
       "<!-- 3 -->\n",
       "<g id=\"node4\" class=\"node\">\n",
       "<title>3</title>\n",
       "<polygon fill=\"#3b9ee5\" stroke=\"black\" points=\"294.5,-157 122.5,-157 122.5,-89 294.5,-89 294.5,-157\"/>\n",
       "<text text-anchor=\"middle\" x=\"208.5\" y=\"-141.8\" font-family=\"Times,serif\" font-size=\"14.00\">area error &lt;= 47.035</text>\n",
       "<text text-anchor=\"middle\" x=\"208.5\" y=\"-126.8\" font-family=\"Times,serif\" font-size=\"14.00\">samples = 233</text>\n",
       "<text text-anchor=\"middle\" x=\"208.5\" y=\"-111.8\" font-family=\"Times,serif\" font-size=\"14.00\">value = [2, 231]</text>\n",
       "<text text-anchor=\"middle\" x=\"208.5\" y=\"-96.8\" font-family=\"Times,serif\" font-size=\"14.00\">class = benign</text>\n",
       "</g>\n",
       "<!-- 2&#45;&gt;3 -->\n",
       "<g id=\"edge3\" class=\"edge\">\n",
       "<title>2&#45;&gt;3</title>\n",
       "<path fill=\"none\" stroke=\"black\" d=\"M344.92,-192.88C325.24,-182.95 303.5,-171.97 283.27,-161.76\"/>\n",
       "<polygon fill=\"black\" stroke=\"black\" points=\"284.6,-158.51 274.1,-157.12 281.45,-164.76 284.6,-158.51\"/>\n",
       "</g>\n",
       "<!-- 6 -->\n",
       "<g id=\"node7\" class=\"node\">\n",
       "<title>6</title>\n",
       "<polygon fill=\"#7dbfee\" stroke=\"black\" points=\"508,-157 313,-157 313,-89 508,-89 508,-157\"/>\n",
       "<text text-anchor=\"middle\" x=\"410.5\" y=\"-141.8\" font-family=\"Times,serif\" font-size=\"14.00\">mean texture &lt;= 20.995</text>\n",
       "<text text-anchor=\"middle\" x=\"410.5\" y=\"-126.8\" font-family=\"Times,serif\" font-size=\"14.00\">samples = 39</text>\n",
       "<text text-anchor=\"middle\" x=\"410.5\" y=\"-111.8\" font-family=\"Times,serif\" font-size=\"14.00\">value = [10, 29]</text>\n",
       "<text text-anchor=\"middle\" x=\"410.5\" y=\"-96.8\" font-family=\"Times,serif\" font-size=\"14.00\">class = benign</text>\n",
       "</g>\n",
       "<!-- 2&#45;&gt;6 -->\n",
       "<g id=\"edge6\" class=\"edge\">\n",
       "<title>2&#45;&gt;6</title>\n",
       "<path fill=\"none\" stroke=\"black\" d=\"M410.5,-192.88C410.5,-184.78 410.5,-175.98 410.5,-167.47\"/>\n",
       "<polygon fill=\"black\" stroke=\"black\" points=\"414,-167.3 410.5,-157.3 407,-167.3 414,-167.3\"/>\n",
       "</g>\n",
       "<!-- 4 -->\n",
       "<g id=\"node5\" class=\"node\">\n",
       "<title>4</title>\n",
       "<polygon fill=\"#3a9de5\" stroke=\"black\" points=\"131,-53 0,-53 0,0 131,0 131,-53\"/>\n",
       "<text text-anchor=\"middle\" x=\"65.5\" y=\"-37.8\" font-family=\"Times,serif\" font-size=\"14.00\">samples = 231</text>\n",
       "<text text-anchor=\"middle\" x=\"65.5\" y=\"-22.8\" font-family=\"Times,serif\" font-size=\"14.00\">value = [1, 230]</text>\n",
       "<text text-anchor=\"middle\" x=\"65.5\" y=\"-7.8\" font-family=\"Times,serif\" font-size=\"14.00\">class = benign</text>\n",
       "</g>\n",
       "<!-- 3&#45;&gt;4 -->\n",
       "<g id=\"edge4\" class=\"edge\">\n",
       "<title>3&#45;&gt;4</title>\n",
       "<path fill=\"none\" stroke=\"black\" d=\"M158.49,-88.95C143.67,-79.16 127.51,-68.48 112.87,-58.8\"/>\n",
       "<polygon fill=\"black\" stroke=\"black\" points=\"114.72,-55.83 104.45,-53.24 110.86,-61.67 114.72,-55.83\"/>\n",
       "</g>\n",
       "<!-- 5 -->\n",
       "<g id=\"node6\" class=\"node\">\n",
       "<title>5</title>\n",
       "<polygon fill=\"#ffffff\" stroke=\"black\" points=\"294,-53 149,-53 149,0 294,0 294,-53\"/>\n",
       "<text text-anchor=\"middle\" x=\"221.5\" y=\"-37.8\" font-family=\"Times,serif\" font-size=\"14.00\">samples = 2</text>\n",
       "<text text-anchor=\"middle\" x=\"221.5\" y=\"-22.8\" font-family=\"Times,serif\" font-size=\"14.00\">value = [1, 1]</text>\n",
       "<text text-anchor=\"middle\" x=\"221.5\" y=\"-7.8\" font-family=\"Times,serif\" font-size=\"14.00\">class = malignant</text>\n",
       "</g>\n",
       "<!-- 3&#45;&gt;5 -->\n",
       "<g id=\"edge5\" class=\"edge\">\n",
       "<title>3&#45;&gt;5</title>\n",
       "<path fill=\"none\" stroke=\"black\" d=\"M213.05,-88.95C214.19,-80.62 215.43,-71.65 216.59,-63.2\"/>\n",
       "<polygon fill=\"black\" stroke=\"black\" points=\"220.06,-63.62 217.96,-53.24 213.13,-62.67 220.06,-63.62\"/>\n",
       "</g>\n",
       "<!-- 7 -->\n",
       "<g id=\"node8\" class=\"node\">\n",
       "<title>7</title>\n",
       "<polygon fill=\"#41a1e6\" stroke=\"black\" points=\"459.5,-53 337.5,-53 337.5,0 459.5,0 459.5,-53\"/>\n",
       "<text text-anchor=\"middle\" x=\"398.5\" y=\"-37.8\" font-family=\"Times,serif\" font-size=\"14.00\">samples = 27</text>\n",
       "<text text-anchor=\"middle\" x=\"398.5\" y=\"-22.8\" font-family=\"Times,serif\" font-size=\"14.00\">value = [1, 26]</text>\n",
       "<text text-anchor=\"middle\" x=\"398.5\" y=\"-7.8\" font-family=\"Times,serif\" font-size=\"14.00\">class = benign</text>\n",
       "</g>\n",
       "<!-- 6&#45;&gt;7 -->\n",
       "<g id=\"edge7\" class=\"edge\">\n",
       "<title>6&#45;&gt;7</title>\n",
       "<path fill=\"none\" stroke=\"black\" d=\"M406.3,-88.95C405.25,-80.62 404.11,-71.65 403.03,-63.2\"/>\n",
       "<polygon fill=\"black\" stroke=\"black\" points=\"406.5,-62.72 401.77,-53.24 399.56,-63.6 406.5,-62.72\"/>\n",
       "</g>\n",
       "<!-- 8 -->\n",
       "<g id=\"node9\" class=\"node\">\n",
       "<title>8</title>\n",
       "<polygon fill=\"#eeab7b\" stroke=\"black\" points=\"623,-53 478,-53 478,0 623,0 623,-53\"/>\n",
       "<text text-anchor=\"middle\" x=\"550.5\" y=\"-37.8\" font-family=\"Times,serif\" font-size=\"14.00\">samples = 12</text>\n",
       "<text text-anchor=\"middle\" x=\"550.5\" y=\"-22.8\" font-family=\"Times,serif\" font-size=\"14.00\">value = [9, 3]</text>\n",
       "<text text-anchor=\"middle\" x=\"550.5\" y=\"-7.8\" font-family=\"Times,serif\" font-size=\"14.00\">class = malignant</text>\n",
       "</g>\n",
       "<!-- 6&#45;&gt;8 -->\n",
       "<g id=\"edge8\" class=\"edge\">\n",
       "<title>6&#45;&gt;8</title>\n",
       "<path fill=\"none\" stroke=\"black\" d=\"M459.47,-88.95C473.83,-79.25 489.5,-68.68 503.73,-59.07\"/>\n",
       "<polygon fill=\"black\" stroke=\"black\" points=\"506.04,-61.73 512.37,-53.24 502.12,-55.93 506.04,-61.73\"/>\n",
       "</g>\n",
       "<!-- 10 -->\n",
       "<g id=\"node11\" class=\"node\">\n",
       "<title>10</title>\n",
       "<polygon fill=\"#399de5\" stroke=\"black\" points=\"648.5,-149.5 526.5,-149.5 526.5,-96.5 648.5,-96.5 648.5,-149.5\"/>\n",
       "<text text-anchor=\"middle\" x=\"587.5\" y=\"-134.3\" font-family=\"Times,serif\" font-size=\"14.00\">samples = 1</text>\n",
       "<text text-anchor=\"middle\" x=\"587.5\" y=\"-119.3\" font-family=\"Times,serif\" font-size=\"14.00\">value = [0, 1]</text>\n",
       "<text text-anchor=\"middle\" x=\"587.5\" y=\"-104.3\" font-family=\"Times,serif\" font-size=\"14.00\">class = benign</text>\n",
       "</g>\n",
       "<!-- 9&#45;&gt;10 -->\n",
       "<g id=\"edge10\" class=\"edge\">\n",
       "<title>9&#45;&gt;10</title>\n",
       "<path fill=\"none\" stroke=\"black\" d=\"M669.21,-192.88C655.26,-181.12 639.57,-167.89 625.7,-156.2\"/>\n",
       "<polygon fill=\"black\" stroke=\"black\" points=\"627.68,-153.29 617.77,-149.52 623.16,-158.64 627.68,-153.29\"/>\n",
       "</g>\n",
       "<!-- 11 -->\n",
       "<g id=\"node12\" class=\"node\">\n",
       "<title>11</title>\n",
       "<polygon fill=\"#e78946\" stroke=\"black\" points=\"872.5,-157 666.5,-157 666.5,-89 872.5,-89 872.5,-157\"/>\n",
       "<text text-anchor=\"middle\" x=\"769.5\" y=\"-141.8\" font-family=\"Times,serif\" font-size=\"14.00\">mean symmetry &lt;= 0.151</text>\n",
       "<text text-anchor=\"middle\" x=\"769.5\" y=\"-126.8\" font-family=\"Times,serif\" font-size=\"14.00\">samples = 16</text>\n",
       "<text text-anchor=\"middle\" x=\"769.5\" y=\"-111.8\" font-family=\"Times,serif\" font-size=\"14.00\">value = [15, 1]</text>\n",
       "<text text-anchor=\"middle\" x=\"769.5\" y=\"-96.8\" font-family=\"Times,serif\" font-size=\"14.00\">class = malignant</text>\n",
       "</g>\n",
       "<!-- 9&#45;&gt;11 -->\n",
       "<g id=\"edge11\" class=\"edge\">\n",
       "<title>9&#45;&gt;11</title>\n",
       "<path fill=\"none\" stroke=\"black\" d=\"M728.3,-192.88C733.42,-184.33 738.99,-175.01 744.34,-166.07\"/>\n",
       "<polygon fill=\"black\" stroke=\"black\" points=\"747.46,-167.68 749.59,-157.3 741.45,-164.09 747.46,-167.68\"/>\n",
       "</g>\n",
       "<!-- 12 -->\n",
       "<g id=\"node13\" class=\"node\">\n",
       "<title>12</title>\n",
       "<polygon fill=\"#ffffff\" stroke=\"black\" points=\"814,-53 669,-53 669,0 814,0 814,-53\"/>\n",
       "<text text-anchor=\"middle\" x=\"741.5\" y=\"-37.8\" font-family=\"Times,serif\" font-size=\"14.00\">samples = 2</text>\n",
       "<text text-anchor=\"middle\" x=\"741.5\" y=\"-22.8\" font-family=\"Times,serif\" font-size=\"14.00\">value = [1, 1]</text>\n",
       "<text text-anchor=\"middle\" x=\"741.5\" y=\"-7.8\" font-family=\"Times,serif\" font-size=\"14.00\">class = malignant</text>\n",
       "</g>\n",
       "<!-- 11&#45;&gt;12 -->\n",
       "<g id=\"edge12\" class=\"edge\">\n",
       "<title>11&#45;&gt;12</title>\n",
       "<path fill=\"none\" stroke=\"black\" d=\"M759.71,-88.95C757.21,-80.53 754.52,-71.45 752,-62.92\"/>\n",
       "<polygon fill=\"black\" stroke=\"black\" points=\"755.32,-61.83 749.13,-53.24 748.61,-63.82 755.32,-61.83\"/>\n",
       "</g>\n",
       "<!-- 13 -->\n",
       "<g id=\"node14\" class=\"node\">\n",
       "<title>13</title>\n",
       "<polygon fill=\"#e58139\" stroke=\"black\" points=\"977,-53 832,-53 832,0 977,0 977,-53\"/>\n",
       "<text text-anchor=\"middle\" x=\"904.5\" y=\"-37.8\" font-family=\"Times,serif\" font-size=\"14.00\">samples = 14</text>\n",
       "<text text-anchor=\"middle\" x=\"904.5\" y=\"-22.8\" font-family=\"Times,serif\" font-size=\"14.00\">value = [14, 0]</text>\n",
       "<text text-anchor=\"middle\" x=\"904.5\" y=\"-7.8\" font-family=\"Times,serif\" font-size=\"14.00\">class = malignant</text>\n",
       "</g>\n",
       "<!-- 11&#45;&gt;13 -->\n",
       "<g id=\"edge13\" class=\"edge\">\n",
       "<title>11&#45;&gt;13</title>\n",
       "<path fill=\"none\" stroke=\"black\" d=\"M816.72,-88.95C830.57,-79.25 845.68,-68.68 859.4,-59.07\"/>\n",
       "<polygon fill=\"black\" stroke=\"black\" points=\"861.55,-61.84 867.73,-53.24 857.53,-56.1 861.55,-61.84\"/>\n",
       "</g>\n",
       "<!-- 15 -->\n",
       "<g id=\"node16\" class=\"node\">\n",
       "<title>15</title>\n",
       "<polygon fill=\"#6ab6ec\" stroke=\"black\" points=\"1109,-261 872,-261 872,-193 1109,-193 1109,-261\"/>\n",
       "<text text-anchor=\"middle\" x=\"990.5\" y=\"-245.8\" font-family=\"Times,serif\" font-size=\"14.00\">concave points error &lt;= 0.014</text>\n",
       "<text text-anchor=\"middle\" x=\"990.5\" y=\"-230.8\" font-family=\"Times,serif\" font-size=\"14.00\">samples = 5</text>\n",
       "<text text-anchor=\"middle\" x=\"990.5\" y=\"-215.8\" font-family=\"Times,serif\" font-size=\"14.00\">value = [1, 4]</text>\n",
       "<text text-anchor=\"middle\" x=\"990.5\" y=\"-200.8\" font-family=\"Times,serif\" font-size=\"14.00\">class = benign</text>\n",
       "</g>\n",
       "<!-- 14&#45;&gt;15 -->\n",
       "<g id=\"edge15\" class=\"edge\">\n",
       "<title>14&#45;&gt;15</title>\n",
       "<path fill=\"none\" stroke=\"black\" d=\"M990.5,-296.88C990.5,-288.78 990.5,-279.98 990.5,-271.47\"/>\n",
       "<polygon fill=\"black\" stroke=\"black\" points=\"994,-271.3 990.5,-261.3 987,-271.3 994,-271.3\"/>\n",
       "</g>\n",
       "<!-- 18 -->\n",
       "<g id=\"node19\" class=\"node\">\n",
       "<title>18</title>\n",
       "<polygon fill=\"#e6843e\" stroke=\"black\" points=\"1357,-261 1154,-261 1154,-193 1357,-193 1357,-261\"/>\n",
       "<text text-anchor=\"middle\" x=\"1255.5\" y=\"-245.8\" font-family=\"Times,serif\" font-size=\"14.00\">worst concavity &lt;= 0.203</text>\n",
       "<text text-anchor=\"middle\" x=\"1255.5\" y=\"-230.8\" font-family=\"Times,serif\" font-size=\"14.00\">samples = 132</text>\n",
       "<text text-anchor=\"middle\" x=\"1255.5\" y=\"-215.8\" font-family=\"Times,serif\" font-size=\"14.00\">value = [129, 3]</text>\n",
       "<text text-anchor=\"middle\" x=\"1255.5\" y=\"-200.8\" font-family=\"Times,serif\" font-size=\"14.00\">class = malignant</text>\n",
       "</g>\n",
       "<!-- 14&#45;&gt;18 -->\n",
       "<g id=\"edge18\" class=\"edge\">\n",
       "<title>14&#45;&gt;18</title>\n",
       "<path fill=\"none\" stroke=\"black\" d=\"M1067.5,-300.36C1096.45,-289.22 1129.71,-276.42 1160.12,-264.71\"/>\n",
       "<polygon fill=\"black\" stroke=\"black\" points=\"1161.39,-267.97 1169.46,-261.12 1158.87,-261.44 1161.39,-267.97\"/>\n",
       "</g>\n",
       "<!-- 16 -->\n",
       "<g id=\"node17\" class=\"node\">\n",
       "<title>16</title>\n",
       "<polygon fill=\"#e58139\" stroke=\"black\" points=\"1036,-149.5 891,-149.5 891,-96.5 1036,-96.5 1036,-149.5\"/>\n",
       "<text text-anchor=\"middle\" x=\"963.5\" y=\"-134.3\" font-family=\"Times,serif\" font-size=\"14.00\">samples = 1</text>\n",
       "<text text-anchor=\"middle\" x=\"963.5\" y=\"-119.3\" font-family=\"Times,serif\" font-size=\"14.00\">value = [1, 0]</text>\n",
       "<text text-anchor=\"middle\" x=\"963.5\" y=\"-104.3\" font-family=\"Times,serif\" font-size=\"14.00\">class = malignant</text>\n",
       "</g>\n",
       "<!-- 15&#45;&gt;16 -->\n",
       "<g id=\"edge16\" class=\"edge\">\n",
       "<title>15&#45;&gt;16</title>\n",
       "<path fill=\"none\" stroke=\"black\" d=\"M981.73,-192.88C978.91,-182.22 975.77,-170.35 972.9,-159.52\"/>\n",
       "<polygon fill=\"black\" stroke=\"black\" points=\"976.2,-158.29 970.26,-149.52 969.43,-160.08 976.2,-158.29\"/>\n",
       "</g>\n",
       "<!-- 17 -->\n",
       "<g id=\"node18\" class=\"node\">\n",
       "<title>17</title>\n",
       "<polygon fill=\"#399de5\" stroke=\"black\" points=\"1176.5,-149.5 1054.5,-149.5 1054.5,-96.5 1176.5,-96.5 1176.5,-149.5\"/>\n",
       "<text text-anchor=\"middle\" x=\"1115.5\" y=\"-134.3\" font-family=\"Times,serif\" font-size=\"14.00\">samples = 4</text>\n",
       "<text text-anchor=\"middle\" x=\"1115.5\" y=\"-119.3\" font-family=\"Times,serif\" font-size=\"14.00\">value = [0, 4]</text>\n",
       "<text text-anchor=\"middle\" x=\"1115.5\" y=\"-104.3\" font-family=\"Times,serif\" font-size=\"14.00\">class = benign</text>\n",
       "</g>\n",
       "<!-- 15&#45;&gt;17 -->\n",
       "<g id=\"edge17\" class=\"edge\">\n",
       "<title>15&#45;&gt;17</title>\n",
       "<path fill=\"none\" stroke=\"black\" d=\"M1031.08,-192.88C1045.64,-181.01 1062.01,-167.65 1076.44,-155.88\"/>\n",
       "<polygon fill=\"black\" stroke=\"black\" points=\"1078.69,-158.55 1084.23,-149.52 1074.26,-153.13 1078.69,-158.55\"/>\n",
       "</g>\n",
       "<!-- 19 -->\n",
       "<g id=\"node20\" class=\"node\">\n",
       "<title>19</title>\n",
       "<polygon fill=\"#399de5\" stroke=\"black\" points=\"1316.5,-149.5 1194.5,-149.5 1194.5,-96.5 1316.5,-96.5 1316.5,-149.5\"/>\n",
       "<text text-anchor=\"middle\" x=\"1255.5\" y=\"-134.3\" font-family=\"Times,serif\" font-size=\"14.00\">samples = 1</text>\n",
       "<text text-anchor=\"middle\" x=\"1255.5\" y=\"-119.3\" font-family=\"Times,serif\" font-size=\"14.00\">value = [0, 1]</text>\n",
       "<text text-anchor=\"middle\" x=\"1255.5\" y=\"-104.3\" font-family=\"Times,serif\" font-size=\"14.00\">class = benign</text>\n",
       "</g>\n",
       "<!-- 18&#45;&gt;19 -->\n",
       "<g id=\"edge19\" class=\"edge\">\n",
       "<title>18&#45;&gt;19</title>\n",
       "<path fill=\"none\" stroke=\"black\" d=\"M1255.5,-192.88C1255.5,-182.33 1255.5,-170.6 1255.5,-159.85\"/>\n",
       "<polygon fill=\"black\" stroke=\"black\" points=\"1259,-159.52 1255.5,-149.52 1252,-159.52 1259,-159.52\"/>\n",
       "</g>\n",
       "<!-- 20 -->\n",
       "<g id=\"node21\" class=\"node\">\n",
       "<title>20</title>\n",
       "<polygon fill=\"#e5833c\" stroke=\"black\" points=\"1554.5,-157 1334.5,-157 1334.5,-89 1554.5,-89 1554.5,-157\"/>\n",
       "<text text-anchor=\"middle\" x=\"1444.5\" y=\"-141.8\" font-family=\"Times,serif\" font-size=\"14.00\">worst smoothness &lt;= 0.097</text>\n",
       "<text text-anchor=\"middle\" x=\"1444.5\" y=\"-126.8\" font-family=\"Times,serif\" font-size=\"14.00\">samples = 131</text>\n",
       "<text text-anchor=\"middle\" x=\"1444.5\" y=\"-111.8\" font-family=\"Times,serif\" font-size=\"14.00\">value = [129, 2]</text>\n",
       "<text text-anchor=\"middle\" x=\"1444.5\" y=\"-96.8\" font-family=\"Times,serif\" font-size=\"14.00\">class = malignant</text>\n",
       "</g>\n",
       "<!-- 18&#45;&gt;20 -->\n",
       "<g id=\"edge20\" class=\"edge\">\n",
       "<title>18&#45;&gt;20</title>\n",
       "<path fill=\"none\" stroke=\"black\" d=\"M1316.86,-192.88C1335.19,-182.99 1355.43,-172.07 1374.28,-161.9\"/>\n",
       "<polygon fill=\"black\" stroke=\"black\" points=\"1375.98,-164.95 1383.12,-157.12 1372.66,-158.79 1375.98,-164.95\"/>\n",
       "</g>\n",
       "<!-- 21 -->\n",
       "<g id=\"node22\" class=\"node\">\n",
       "<title>21</title>\n",
       "<polygon fill=\"#399de5\" stroke=\"black\" points=\"1429.5,-53 1307.5,-53 1307.5,0 1429.5,0 1429.5,-53\"/>\n",
       "<text text-anchor=\"middle\" x=\"1368.5\" y=\"-37.8\" font-family=\"Times,serif\" font-size=\"14.00\">samples = 1</text>\n",
       "<text text-anchor=\"middle\" x=\"1368.5\" y=\"-22.8\" font-family=\"Times,serif\" font-size=\"14.00\">value = [0, 1]</text>\n",
       "<text text-anchor=\"middle\" x=\"1368.5\" y=\"-7.8\" font-family=\"Times,serif\" font-size=\"14.00\">class = benign</text>\n",
       "</g>\n",
       "<!-- 20&#45;&gt;21 -->\n",
       "<g id=\"edge21\" class=\"edge\">\n",
       "<title>20&#45;&gt;21</title>\n",
       "<path fill=\"none\" stroke=\"black\" d=\"M1417.92,-88.95C1410.71,-79.98 1402.89,-70.27 1395.65,-61.26\"/>\n",
       "<polygon fill=\"black\" stroke=\"black\" points=\"1398.19,-58.84 1389.2,-53.24 1392.74,-63.22 1398.19,-58.84\"/>\n",
       "</g>\n",
       "<!-- 22 -->\n",
       "<g id=\"node23\" class=\"node\">\n",
       "<title>22</title>\n",
       "<polygon fill=\"#e5823b\" stroke=\"black\" points=\"1593,-53 1448,-53 1448,0 1593,0 1593,-53\"/>\n",
       "<text text-anchor=\"middle\" x=\"1520.5\" y=\"-37.8\" font-family=\"Times,serif\" font-size=\"14.00\">samples = 130</text>\n",
       "<text text-anchor=\"middle\" x=\"1520.5\" y=\"-22.8\" font-family=\"Times,serif\" font-size=\"14.00\">value = [129, 1]</text>\n",
       "<text text-anchor=\"middle\" x=\"1520.5\" y=\"-7.8\" font-family=\"Times,serif\" font-size=\"14.00\">class = malignant</text>\n",
       "</g>\n",
       "<!-- 20&#45;&gt;22 -->\n",
       "<g id=\"edge22\" class=\"edge\">\n",
       "<title>20&#45;&gt;22</title>\n",
       "<path fill=\"none\" stroke=\"black\" d=\"M1471.08,-88.95C1478.29,-79.98 1486.11,-70.27 1493.35,-61.26\"/>\n",
       "<polygon fill=\"black\" stroke=\"black\" points=\"1496.26,-63.22 1499.8,-53.24 1490.81,-58.84 1496.26,-63.22\"/>\n",
       "</g>\n",
       "</g>\n",
       "</svg>\n"
      ],
      "text/plain": [
       "<graphviz.files.Source at 0x7fb13e248f40>"
      ]
     },
     "execution_count": 12,
     "metadata": {},
     "output_type": "execute_result"
    }
   ],
   "source": [
    "import graphviz\n",
    "with open(\"tree.dot\") as f:\n",
    "    dot_graph = f.read()\n",
    "graphviz.Source(dot_graph)"
   ]
  },
  {
   "cell_type": "code",
   "execution_count": 13,
   "metadata": {},
   "outputs": [
    {
     "data": {
      "text/plain": [
       "array([0.        , 0.04543841, 0.        , 0.        , 0.        ,\n",
       "       0.        , 0.        , 0.        , 0.00470746, 0.        ,\n",
       "       0.        , 0.        , 0.        , 0.03655873, 0.        ,\n",
       "       0.        , 0.        , 0.00860793, 0.        , 0.        ,\n",
       "       0.        , 0.        , 0.02207782, 0.12096525, 0.0194148 ,\n",
       "       0.        , 0.01035483, 0.73187478, 0.        , 0.        ])"
      ]
     },
     "execution_count": 13,
     "metadata": {},
     "output_type": "execute_result"
    }
   ],
   "source": [
    "model.feature_importances_"
   ]
  },
  {
   "cell_type": "code",
   "execution_count": 14,
   "metadata": {},
   "outputs": [
    {
     "data": {
      "text/plain": [
       "(30,)"
      ]
     },
     "execution_count": 14,
     "metadata": {},
     "output_type": "execute_result"
    }
   ],
   "source": [
    "model.feature_importances_.shape"
   ]
  },
  {
   "cell_type": "code",
   "execution_count": 15,
   "metadata": {},
   "outputs": [
    {
     "data": {
      "text/plain": [
       "array(['mean radius', 'mean texture', 'mean perimeter', 'mean area',\n",
       "       'mean smoothness', 'mean compactness', 'mean concavity',\n",
       "       'mean concave points', 'mean symmetry', 'mean fractal dimension',\n",
       "       'radius error', 'texture error', 'perimeter error', 'area error',\n",
       "       'smoothness error', 'compactness error', 'concavity error',\n",
       "       'concave points error', 'symmetry error',\n",
       "       'fractal dimension error', 'worst radius', 'worst texture',\n",
       "       'worst perimeter', 'worst area', 'worst smoothness',\n",
       "       'worst compactness', 'worst concavity', 'worst concave points',\n",
       "       'worst symmetry', 'worst fractal dimension'], dtype='<U23')"
      ]
     },
     "execution_count": 15,
     "metadata": {},
     "output_type": "execute_result"
    }
   ],
   "source": [
    "cancer.feature_names\n"
   ]
  },
  {
   "cell_type": "code",
   "execution_count": 17,
   "metadata": {},
   "outputs": [
    {
     "data": {
      "text/plain": [
       "([<matplotlib.axis.YTick at 0x7fb1591f38b0>,\n",
       "  <matplotlib.axis.YTick at 0x7fb1591f3490>,\n",
       "  <matplotlib.axis.YTick at 0x7fb1594be2e0>,\n",
       "  <matplotlib.axis.YTick at 0x7fb159173f40>,\n",
       "  <matplotlib.axis.YTick at 0x7fb159189490>,\n",
       "  <matplotlib.axis.YTick at 0x7fb1591899a0>,\n",
       "  <matplotlib.axis.YTick at 0x7fb159189eb0>,\n",
       "  <matplotlib.axis.YTick at 0x7fb15918e400>,\n",
       "  <matplotlib.axis.YTick at 0x7fb15918e910>,\n",
       "  <matplotlib.axis.YTick at 0x7fb159189a00>,\n",
       "  <matplotlib.axis.YTick at 0x7fb159220490>,\n",
       "  <matplotlib.axis.YTick at 0x7fb15918ee20>,\n",
       "  <matplotlib.axis.YTick at 0x7fb159195370>,\n",
       "  <matplotlib.axis.YTick at 0x7fb159195880>,\n",
       "  <matplotlib.axis.YTick at 0x7fb159195d90>,\n",
       "  <matplotlib.axis.YTick at 0x7fb15919a2e0>,\n",
       "  <matplotlib.axis.YTick at 0x7fb15919a7f0>,\n",
       "  <matplotlib.axis.YTick at 0x7fb15919ad00>,\n",
       "  <matplotlib.axis.YTick at 0x7fb15919a520>,\n",
       "  <matplotlib.axis.YTick at 0x7fb1591955b0>,\n",
       "  <matplotlib.axis.YTick at 0x7fb159189190>,\n",
       "  <matplotlib.axis.YTick at 0x7fb1591a2400>,\n",
       "  <matplotlib.axis.YTick at 0x7fb1591a2910>,\n",
       "  <matplotlib.axis.YTick at 0x7fb1591a2e20>,\n",
       "  <matplotlib.axis.YTick at 0x7fb1591a8370>,\n",
       "  <matplotlib.axis.YTick at 0x7fb1591a8880>,\n",
       "  <matplotlib.axis.YTick at 0x7fb1591a8d90>,\n",
       "  <matplotlib.axis.YTick at 0x7fb1591a85b0>,\n",
       "  <matplotlib.axis.YTick at 0x7fb1591a2640>,\n",
       "  <matplotlib.axis.YTick at 0x7fb159195f10>],\n",
       " [Text(0, 0, 'mean radius'),\n",
       "  Text(0, 1, 'mean texture'),\n",
       "  Text(0, 2, 'mean perimeter'),\n",
       "  Text(0, 3, 'mean area'),\n",
       "  Text(0, 4, 'mean smoothness'),\n",
       "  Text(0, 5, 'mean compactness'),\n",
       "  Text(0, 6, 'mean concavity'),\n",
       "  Text(0, 7, 'mean concave points'),\n",
       "  Text(0, 8, 'mean symmetry'),\n",
       "  Text(0, 9, 'mean fractal dimension'),\n",
       "  Text(0, 10, 'radius error'),\n",
       "  Text(0, 11, 'texture error'),\n",
       "  Text(0, 12, 'perimeter error'),\n",
       "  Text(0, 13, 'area error'),\n",
       "  Text(0, 14, 'smoothness error'),\n",
       "  Text(0, 15, 'compactness error'),\n",
       "  Text(0, 16, 'concavity error'),\n",
       "  Text(0, 17, 'concave points error'),\n",
       "  Text(0, 18, 'symmetry error'),\n",
       "  Text(0, 19, 'fractal dimension error'),\n",
       "  Text(0, 20, 'worst radius'),\n",
       "  Text(0, 21, 'worst texture'),\n",
       "  Text(0, 22, 'worst perimeter'),\n",
       "  Text(0, 23, 'worst area'),\n",
       "  Text(0, 24, 'worst smoothness'),\n",
       "  Text(0, 25, 'worst compactness'),\n",
       "  Text(0, 26, 'worst concavity'),\n",
       "  Text(0, 27, 'worst concave points'),\n",
       "  Text(0, 28, 'worst symmetry'),\n",
       "  Text(0, 29, 'worst fractal dimension')])"
      ]
     },
     "execution_count": 17,
     "metadata": {},
     "output_type": "execute_result"
    },
    {
     "data": {
      "image/png": "[encoded data removed]",
      "text/plain": [
       "<Figure size 432x288 with 1 Axes>"
      ]
     },
     "metadata": {
      "needs_background": "light"
     },
     "output_type": "display_data"
    }
   ],
   "source": [
    "import numpy as np\n",
    "import matplotlib.pyplot as plt\n",
    "%matplotlib inline\n",
    "\n",
    "n_features = cancer.data.shape[1]\n",
    "\n",
    "plt.barh(np.arange(n_features), model.feature_importances_)\n",
    "plt.yticks(np.arange(n_features) , cancer.feature_names)"
   ]
  },
  {
   "cell_type": "markdown",
   "metadata": {},
   "source": [
    "## Random Forest"
   ]
  },
  {
   "cell_type": "code",
   "execution_count": 18,
   "metadata": {},
   "outputs": [],
   "source": [
    "#The important parameters to adjust are n_estimators , max_features , and possibly\n",
    "#pre-pruning options like max_depth . For n_estimators , larger is always better. Aver‐\n",
    "#aging more trees will yield a more robust ensemble by reducing overfitting. However,\n",
    "#there are diminishing returns, and more trees need more memory and more time to\n",
    "#train. A common rule of thumb is to build “as many as you have time/memory for.”\n",
    "#As described earlier, max_features determines how random each tree is, and a\n",
    "#smaller max_features reduces overfitting. In general, it’s a good rule of thumb to use\n",
    "#the default values: max_features=sqrt(n_features) for classification and max_fea\n",
    "#tures=log2(n_features) for regression. Adding max_features or max_leaf_nodes\n",
    "#might sometimes improve performance. It can also drastically reduce space and time\n",
    "#requirements for training and prediction."
   ]
  },
  {
   "cell_type": "code",
   "execution_count": null,
   "metadata": {},
   "outputs": [],
   "source": []
  }
 ],
 "metadata": {
  "kernelspec": {
   "display_name": "Python 3",
   "language": "python",
   "name": "python3"
  },
  "language_info": {
   "codemirror_mode": {
    "name": "ipython",
    "version": 3
   },
   "file_extension": ".py",
   "mimetype": "text/x-python",
   "name": "python",
   "nbconvert_exporter": "python",
   "pygments_lexer": "ipython3",
   "version": "3.8.2"
  }
 },
 "nbformat": 4,
 "nbformat_minor": 4
}
